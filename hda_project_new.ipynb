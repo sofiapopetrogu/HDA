{
 "cells": [
  {
   "attachments": {},
   "cell_type": "markdown",
   "metadata": {},
   "source": [
    "# Bed Posture and Subject Classification"
   ]
  },
  {
   "cell_type": "markdown",
   "metadata": {},
   "source": [
    "TO DO:\n",
    "\n",
    "- In data load section, include example picture, show the effect of normalization and median filtering, before pre-processing and after pre-processing\n",
    "- test effect of gaussian filter (sigma of 0.5)\n",
    "- Review accuracy of model on specific positions, not just 3 main positions\n",
    "- Come up with other models, smaller, without dropout\n",
    "- try unsupervised approach\n",
    "- type up results in report"
   ]
  },
  {
   "cell_type": "code",
   "execution_count": 1,
   "metadata": {},
   "outputs": [],
   "source": [
    "# Set which GPU to use\n",
    "import os\n",
    "os.environ[\"CUDA_DEVICE_ORDER\"]=\"PCI_BUS_ID\" \n",
    "os.environ[\"CUDA_VISIBLE_DEVICES\"]=\"0\""
   ]
  },
  {
   "cell_type": "code",
   "execution_count": 28,
   "metadata": {},
   "outputs": [],
   "source": [
    "# Import Libraries\n",
    "\n",
    "import numpy as np\n",
    "import pandas as pd\n",
    "import os\n",
    "import sys\n",
    "import time\n",
    "from PIL import Image\n",
    "\n",
    "# Tensorflow\n",
    "import tensorflow as tf\n",
    "from tensorflow.keras import layers, Input\n",
    "from tensorflow.keras.layers import Add, Dense, Activation, ZeroPadding2D, BatchNormalization, Flatten, Conv2D, AveragePooling2D, MaxPooling2D, GlobalMaxPooling2D, Dropout\n",
    "from tensorflow.keras.models import Model, load_model\n",
    "from tensorflow.keras.regularizers import l2\n",
    "from tensorflow.keras.utils import plot_model\n",
    "from tensorflow.keras.callbacks import EarlyStopping\n",
    "\n",
    "# Visualization\n",
    "import matplotlib.pyplot as plt\n",
    "import seaborn as sns\n",
    "from scipy import ndimage\n",
    "\n",
    "# Other\n",
    "import math\n",
    "import h5py\n",
    "from sklearn.metrics import confusion_matrix, precision_recall_fscore_support, accuracy_score\n",
    "from sklearn.model_selection import train_test_split, StratifiedKFold\n",
    "from collections import Counter\n",
    "\n",
    "%matplotlib inline\n",
    "np.random.seed(123)"
   ]
  },
  {
   "attachments": {},
   "cell_type": "markdown",
   "metadata": {},
   "source": [
    "## Data Load and preprocessing"
   ]
  },
  {
   "cell_type": "markdown",
   "metadata": {},
   "source": [
    "We used data from the first experiment in the public PmatData dataset.\n",
    "\n",
    "Information about the dataset:\n",
    "- Samples are collected using Vista Medical FSA Soft- Flex 2048\n",
    "- The main data folder contains 13 directories corresponding to 13 subjects. Each folder contains 17 txt files, which correspond to the 17 possible sleeping postures (8 standard and 9 uncommon postures)\n",
    "- Each file contains multiple recordings of the subject posture in the form of pressure matrices, sampled at 1Hz. Each row is length 2,048 representing the 64x32 pressure mat size. Pressure ratings range from 0 to 1000\n",
    "- 2-mins (around 120 frames) of data was recorded per subject\n",
    "\n",
    "Source of dataset: https://physionet.org/content/pmd/1.0.0/"
   ]
  },
  {
   "cell_type": "code",
   "execution_count": 29,
   "metadata": {},
   "outputs": [],
   "source": [
    "path = os.getcwd()"
   ]
  },
  {
   "cell_type": "code",
   "execution_count": 30,
   "metadata": {},
   "outputs": [
    {
     "data": {
      "text/html": [
       "<div>\n",
       "<style scoped>\n",
       "    .dataframe tbody tr th:only-of-type {\n",
       "        vertical-align: middle;\n",
       "    }\n",
       "\n",
       "    .dataframe tbody tr th {\n",
       "        vertical-align: top;\n",
       "    }\n",
       "\n",
       "    .dataframe thead th {\n",
       "        text-align: right;\n",
       "    }\n",
       "</style>\n",
       "<table border=\"1\" class=\"dataframe\">\n",
       "  <thead>\n",
       "    <tr style=\"text-align: right;\">\n",
       "      <th></th>\n",
       "      <th>Age</th>\n",
       "      <th>Height/cm</th>\n",
       "      <th>Weight/kg</th>\n",
       "    </tr>\n",
       "    <tr>\n",
       "      <th>Subject-Number</th>\n",
       "      <th></th>\n",
       "      <th></th>\n",
       "      <th></th>\n",
       "    </tr>\n",
       "  </thead>\n",
       "  <tbody>\n",
       "    <tr>\n",
       "      <th>1</th>\n",
       "      <td>19</td>\n",
       "      <td>175</td>\n",
       "      <td>87</td>\n",
       "    </tr>\n",
       "    <tr>\n",
       "      <th>2</th>\n",
       "      <td>23</td>\n",
       "      <td>183</td>\n",
       "      <td>85</td>\n",
       "    </tr>\n",
       "    <tr>\n",
       "      <th>3</th>\n",
       "      <td>23</td>\n",
       "      <td>183</td>\n",
       "      <td>100</td>\n",
       "    </tr>\n",
       "    <tr>\n",
       "      <th>4</th>\n",
       "      <td>24</td>\n",
       "      <td>177</td>\n",
       "      <td>70</td>\n",
       "    </tr>\n",
       "    <tr>\n",
       "      <th>5</th>\n",
       "      <td>24</td>\n",
       "      <td>172</td>\n",
       "      <td>66</td>\n",
       "    </tr>\n",
       "    <tr>\n",
       "      <th>6</th>\n",
       "      <td>26</td>\n",
       "      <td>169</td>\n",
       "      <td>83</td>\n",
       "    </tr>\n",
       "    <tr>\n",
       "      <th>7</th>\n",
       "      <td>27</td>\n",
       "      <td>179</td>\n",
       "      <td>96</td>\n",
       "    </tr>\n",
       "    <tr>\n",
       "      <th>8</th>\n",
       "      <td>27</td>\n",
       "      <td>186</td>\n",
       "      <td>63</td>\n",
       "    </tr>\n",
       "    <tr>\n",
       "      <th>9</th>\n",
       "      <td>30</td>\n",
       "      <td>174</td>\n",
       "      <td>74</td>\n",
       "    </tr>\n",
       "    <tr>\n",
       "      <th>10</th>\n",
       "      <td>30</td>\n",
       "      <td>174</td>\n",
       "      <td>79</td>\n",
       "    </tr>\n",
       "    <tr>\n",
       "      <th>11</th>\n",
       "      <td>30</td>\n",
       "      <td>176</td>\n",
       "      <td>91</td>\n",
       "    </tr>\n",
       "    <tr>\n",
       "      <th>12</th>\n",
       "      <td>33</td>\n",
       "      <td>170</td>\n",
       "      <td>78</td>\n",
       "    </tr>\n",
       "    <tr>\n",
       "      <th>13</th>\n",
       "      <td>34</td>\n",
       "      <td>174</td>\n",
       "      <td>74</td>\n",
       "    </tr>\n",
       "  </tbody>\n",
       "</table>\n",
       "</div>"
      ],
      "text/plain": [
       "                Age  Height/cm  Weight/kg\n",
       "Subject-Number                           \n",
       "1                19        175         87\n",
       "2                23        183         85\n",
       "3                23        183        100\n",
       "4                24        177         70\n",
       "5                24        172         66\n",
       "6                26        169         83\n",
       "7                27        179         96\n",
       "8                27        186         63\n",
       "9                30        174         74\n",
       "10               30        174         79\n",
       "11               30        176         91\n",
       "12               33        170         78\n",
       "13               34        174         74"
      ]
     },
     "metadata": {},
     "output_type": "display_data"
    }
   ],
   "source": [
    "# Table of Subject Information\n",
    "subj_inf = pd.read_csv(path + '/data/experiment-i/subject-info-i.csv', encoding = 'utf_16', index_col='Subject-Number')\n",
    "display(subj_inf)"
   ]
  },
  {
   "cell_type": "code",
   "execution_count": 4,
   "metadata": {},
   "outputs": [
    {
     "name": "stdout",
     "output_type": "stream",
     "text": [
      "The subjects in Experiment I are: ['S9', 'S10', 'S12', 'S7', 'S6', 'S4', 'S1', 'S8', 'S11', 'S3', 'S13', 'S2', 'S5']\n"
     ]
    }
   ],
   "source": [
    "# List of Subjects in Experiment I\n",
    "subj_list = [file for file in os.listdir(path +'/data/experiment-i/') if os.path.isdir(os.path.join(path +'/data/experiment-i/', file))]\n",
    "print(f\"The subjects in Experiment I are: {subj_list}\")"
   ]
  },
  {
   "cell_type": "code",
   "execution_count": 5,
   "metadata": {},
   "outputs": [
    {
     "name": "stdout",
     "output_type": "stream",
     "text": [
      "The number of positions for each subject are: 17\n"
     ]
    }
   ],
   "source": [
    "# Number of Positions for Each Subject\n",
    "positions_cnt = [file for file in os.listdir(path +'/data/experiment-i/S5/') if os.path.isfile(os.path.join(path +'/data/experiment-i/S5/', file))]\n",
    "print(f\"The number of positions for each subject are: {len(positions_cnt)}\")"
   ]
  },
  {
   "cell_type": "code",
   "execution_count": 6,
   "metadata": {},
   "outputs": [],
   "source": [
    "# macro position vector\n",
    "positions_i = [\"placeholder\", \"supine\", \"right\",\n",
    "                     \"left\", \"right\", \"right\",\n",
    "                     \"left\", \"left\", \"supine\",\n",
    "                     \"supine\", \"supine\", \"supine\",\n",
    "                     \"supine\", \"right\", \"left\",\n",
    "                     \"supine\", \"supine\", \"supine\"]"
   ]
  },
  {
   "cell_type": "code",
   "execution_count": 7,
   "metadata": {},
   "outputs": [],
   "source": [
    "# Use position names to define 3 common positions\n",
    "\n",
    "def token_position(x):\n",
    "    return {\n",
    "        'supine': 0,\n",
    "        'left': 1,\n",
    "        'right': 2,\n",
    "        'left_fetus': 1,\n",
    "        'right_fetus': 2\n",
    "    }[x]"
   ]
  },
  {
   "cell_type": "code",
   "execution_count": 12,
   "metadata": {},
   "outputs": [],
   "source": [
    "# Tokenize the labels\n",
    "def token_patient(x):\n",
    "    return {'S1': 0, 'S2': 1, 'S3': 2, 'S4': 3, 'S5': 4,  'S6': 5, 'S7': 6,\n",
    "                    'S8': 7, 'S9': 8, 'S10': 9, 'S11': 10, 'S12': 11, 'S13':12}[x]"
   ]
  },
  {
   "cell_type": "code",
   "execution_count": 50,
   "metadata": {},
   "outputs": [],
   "source": [
    "# Specific position vector\n",
    "\n",
    "positions_ii = ['placeholder', 'supine','right','left','right_30_roll','right_60_roll','left_30_roll','left_60_roll','supine_star','supine_hand_crossed','supine_knees_up','supine_right_knee_up','supine_left_knee_up','right_fetus','left_fetus','supine_30_inclination','supine_45_inclination','supine_60_inclination']"
   ]
  },
  {
   "cell_type": "code",
   "execution_count": 41,
   "metadata": {},
   "outputs": [
    {
     "data": {
      "text/plain": [
       "(107, 2048)"
      ]
     },
     "execution_count": 41,
     "metadata": {},
     "output_type": "execute_result"
    }
   ],
   "source": [
    "# Inspect one file\n",
    "test_read = np.loadtxt(path + '/data/experiment-i/S6/1.txt')\n",
    "test_read.shape # (101, 2048) = (number of samples, number of sensors (32x64))"
   ]
  },
  {
   "cell_type": "code",
   "execution_count": 43,
   "metadata": {},
   "outputs": [
    {
     "data": {
      "image/png": "[encoded data removed]",
      "text/plain": [
       "<Figure size 640x480 with 1 Axes>"
      ]
     },
     "metadata": {},
     "output_type": "display_data"
    }
   ],
   "source": [
    "# Example of one sample\n",
    "plt.title(\"Test read - Experiment I, Subject 6, Position 1\")\n",
    "plt.imshow(test_read[21,:].reshape(64, 32)) # 20th sample\n",
    "plt.show()"
   ]
  },
  {
   "cell_type": "code",
   "execution_count": 48,
   "metadata": {},
   "outputs": [
    {
     "data": {
      "image/png": "[encoded data removed]",
      "text/plain": [
       "<Figure size 1500x600 with 3 Axes>"
      ]
     },
     "metadata": {},
     "output_type": "display_data"
    }
   ],
   "source": [
    "# Show that first three samples are corrupted\n",
    "fig, axes = plt.subplots(figsize=(15, 6), ncols=3)\n",
    "fig.suptitle(\"Corrupted images - Experiment I\")\n",
    "\n",
    "# Plot the first three samples\n",
    "for ii in range(3):\n",
    "    ax = axes[ii]\n",
    "    ax.imshow(test_read[ii, :].reshape(64, 32))\n",
    "    ax.set_title(f\"Sample {ii+1}\")\n",
    "\n",
    "\n",
    "# Show the plot\n",
    "plt.tight_layout(rect=[0, 0, 1, 0.95])  # Adjust layout to fit the title\n",
    "plt.show()\n"
   ]
  },
  {
   "cell_type": "code",
   "execution_count": 58,
   "metadata": {},
   "outputs": [],
   "source": [
    "# Load all the data into a dictionary, where the keys are the subjects and \n",
    "# values: images (index 0), position's number (index 1), and specific position's name (index 2)\n",
    "\n",
    "# Initialize dictionary to store the data\n",
    "exp_i_data = {}\n",
    "\n",
    "# Directory structure: /data/experiment-i/subject/position.txt\n",
    "for _, dirs, _ in os.walk(path + '/data/experiment-i/'):  \n",
    "    # Loop through each subject\n",
    "    for dir in dirs:\n",
    "        subject = dir\n",
    "        data = None\n",
    "        labels = None\n",
    "        # Loop through each position file in the subject's directory\n",
    "        for _, _, files in os.walk(path + '/data/experiment-i/' + dir):\n",
    "            for file in files:\n",
    "                # Posture path\n",
    "                file_path = path + '/data/experiment-i/' + dir + '/' + file\n",
    "                with open(file_path, 'r') as f:\n",
    "                    # We remove first and last 3 corrupted frames - suggestion from the dataset's authors\n",
    "                    for line in f.read().splitlines()[3:-3]:\n",
    "                        raw_data = np.fromstring(line, dtype=float, sep='\\t').reshape(1, 64, 32)\n",
    "                        # apply median filter of 3x3\n",
    "                        raw_data = ndimage.median_filter(raw_data, size=(1,3,3))\n",
    "                        # Normalize the data: change range from [0-1000] to [0-255]\n",
    "                        file_data = np.round(raw_data*255/1000).astype(np.uint8)\n",
    "                        # Label the data using position number from file name\n",
    "                        file_label = token_position(positions_i[int(file[:-4])])                        \n",
    "                        file_label = np.array([file_label])\n",
    "\n",
    "                        # Specific position label\n",
    "                        position_label = positions_ii[int(file[:-4])]\n",
    "                        position_label = np.array([position_label])\n",
    "\n",
    "                        # Tokenize the position index\n",
    "                        position_index = int(file[:-4])-1\n",
    "                        position_index = np.array([position_index])\n",
    "\n",
    "                        if data is None:\n",
    "                            data = file_data\n",
    "                        else:\n",
    "                            # Concatenate the new data along the first axis\n",
    "                            data = np.concatenate((data, file_data), axis=0)\n",
    "                        if labels is None:\n",
    "                            labels = file_label\n",
    "                            positions = position_label\n",
    "                            position_indices = position_index\n",
    "                        else:\n",
    "                            labels = np.concatenate((labels, file_label), axis=0)\n",
    "                            positions = np.concatenate((positions, position_label), axis=0)\n",
    "                            position_indices = np.concatenate((position_indices, position_index), axis=0)\n",
    "                        \n",
    "        exp_i_data[subject] = {'data': data, 'labels': labels, 'position_indices': position_indices, 'positions': positions}"
   ]
  },
  {
   "cell_type": "code",
   "execution_count": 69,
   "metadata": {},
   "outputs": [
    {
     "data": {
      "image/png": "[encoded data removed]",
      "text/plain": [
       "<Figure size 1500x800 with 1 Axes>"
      ]
     },
     "metadata": {},
     "output_type": "display_data"
    }
   ],
   "source": [
    "# Distribution of the data for each subjects\n",
    "\n",
    "data_counts = {}\n",
    "\n",
    "for subject, data in exp_i_data.items():\n",
    "    data_counts[subject] = data['data'].shape[0]\n",
    "\n",
    "sorted_subjects = sorted(data_counts.items(), key=lambda item: item[1])\n",
    "\n",
    "# Plot the distribution of the data\n",
    "plt.figure(figsize=(15, 8))\n",
    "bars = plt.barh([subj for subj, count in sorted_subjects], [count for subj, count in sorted_subjects], color='skyblue')\n",
    "\n",
    "# Add the value at the end of each bar\n",
    "for bar in bars:\n",
    "    plt.text(bar.get_width() + 5, bar.get_y() + bar.get_height()/2, f'{bar.get_width():,}', va='center', color='black')\n",
    "plt.xlabel('Number of samples')\n",
    "plt.ylabel('Subjects')\n",
    "plt.title('Distribution of the data for each subject')\n",
    "plt.show()\n"
   ]
  },
  {
   "cell_type": "code",
   "execution_count": 71,
   "metadata": {},
   "outputs": [
    {
     "data": {
      "image/png": "[encoded data removed]",
      "text/plain": [
       "<Figure size 1200x800 with 1 Axes>"
      ]
     },
     "metadata": {},
     "output_type": "display_data"
    }
   ],
   "source": [
    "# Show the distribution of the positions across the subjects\n",
    "\n",
    "position_counts = Counter()\n",
    "\n",
    "for subject_data in exp_i_data.values():\n",
    "    position_counts.update(subject_data['positions'])\n",
    "\n",
    "# Sort positions by count in descending order\n",
    "sorted_positions_counts = sorted(position_counts.items(), key=lambda item: item[1])\n",
    "positions, counts = zip(*sorted_positions_counts)\n",
    "\n",
    "# Plot the distribution of positions\n",
    "plt.figure(figsize=(12, 8))\n",
    "bars = plt.barh(positions, counts, color='skyblue')\n",
    "\n",
    "# Add values at the end of each bar\n",
    "for bar in bars:\n",
    "    plt.text(bar.get_width() + 5, bar.get_y() + bar.get_height()/2, f'{bar.get_width():,}', va='center', color='black')\n",
    "\n",
    "plt.xlabel('Frequency')\n",
    "plt.ylabel('Positions')\n",
    "plt.title('Distribution of Positions Across All Subjects')\n",
    "plt.tight_layout()\n",
    "plt.show()\n",
    "\n"
   ]
  },
  {
   "cell_type": "markdown",
   "metadata": {},
   "source": [
    "#### Train-Test Split"
   ]
  },
  {
   "cell_type": "code",
   "execution_count": 76,
   "metadata": {},
   "outputs": [],
   "source": [
    "# Create datasets for each task\n",
    "\n",
    "def create_dataset(ylabel):\n",
    "    X = exp_i_data[subj_list[0]]['data']\n",
    "    y = exp_i_data[subj_list[0]][ylabel] \n",
    "    label_s = np.full(len(X), token_patient(subj_list[0]))\n",
    "\n",
    "    for subject in subj_list[1:]:\n",
    "        X = np.append(X, exp_i_data[subject]['data'], axis=0)\n",
    "        y = np.append(y, exp_i_data[subject][ylabel], axis=0)\n",
    "        label_s = np.append(label_s, np.full(len(exp_i_data[subject]['data']), token_patient(subject)))\n",
    "    return X, y, label_s"
   ]
  },
  {
   "cell_type": "code",
   "execution_count": 93,
   "metadata": {},
   "outputs": [],
   "source": [
    "# Task 1: Predict the macro position (supine, left, right), ylabel = 'labels'\n",
    "# Task 2: Predict the specific position (17 positions), ylabel = 'position_indices'\n",
    "X, Y, label_s = create_dataset('labels')"
   ]
  },
  {
   "cell_type": "code",
   "execution_count": 94,
   "metadata": {},
   "outputs": [
    {
     "name": "stdout",
     "output_type": "stream",
     "text": [
      "(18698, 64, 32) (18698,) (18698,)\n"
     ]
    }
   ],
   "source": [
    "print(X.shape, y.shape, label_s.shape)"
   ]
  },
  {
   "cell_type": "code",
   "execution_count": 109,
   "metadata": {},
   "outputs": [],
   "source": [
    "# Train-Test Split\n",
    "\n",
    "# 10% was used for testing and 90% for training.\n",
    "\n",
    "# Experiment I\n",
    "indices = np.arange(len(X))\n",
    "X_train, X_test, y_train, y_test, indices_train, indices_test, = train_test_split(X, y, indices, test_size=0.1, random_state=123)\n",
    "\n",
    "# Split label_s accordingly using indices\n",
    "label_s_train = label_s[indices_train]\n",
    "label_s_test = label_s[indices_test]"
   ]
  },
  {
   "cell_type": "code",
   "execution_count": 110,
   "metadata": {},
   "outputs": [],
   "source": [
    "label_s_train = tf.keras.utils.to_categorical(label_s_train, num_classes=13)\n",
    "y_train = tf.keras.utils.to_categorical(y_train, num_classes=3)\n",
    "label_s_test = tf.keras.utils.to_categorical(label_s_test, num_classes=13)\n",
    "y_test = tf.keras.utils.to_categorical(y_test, num_classes=3)"
   ]
  },
  {
   "cell_type": "code",
   "execution_count": 111,
   "metadata": {},
   "outputs": [
    {
     "name": "stdout",
     "output_type": "stream",
     "text": [
      "Experiment I: Training data shape: (16828, 64, 32), Training labels shape: (16828, 3)\n",
      "Experiment I: Testing data shape: (1870, 64, 32), Testing labels shape: (1870, 3)\n"
     ]
    }
   ],
   "source": [
    "# Print the shapes of the training and testing datasets\n",
    "\n",
    "print(f\"Experiment I: Training data shape: {X_train.shape}, Training labels shape: {y_train.shape}\") #one-hot encoded\n",
    "print(f\"Experiment I: Testing data shape: {X_test.shape}, Testing labels shape: {y_test.shape}\")"
   ]
  },
  {
   "cell_type": "markdown",
   "metadata": {},
   "source": [
    "### Model Definition"
   ]
  },
  {
   "cell_type": "code",
   "execution_count": 123,
   "metadata": {},
   "outputs": [],
   "source": [
    "# Define the proposed model from paper\n",
    "\n",
    "# can't use a sequential model as model has multiple outputs\n",
    "#each convolutional block was followed by an increasing dropout rate of 10%, 20%, 30%, 40%. \n",
    "\n",
    "# Define the functional model\n",
    "def create_model(regularization=0):\n",
    "\n",
    "    input = tf.keras.Input(shape=(64, 32, 1), name=\"img\")\n",
    "    x = tf.keras.layers.Conv2D(32, (3, 3), strides=(1,1), padding='valid', kernel_regularizer=l2(regularization))(input)\n",
    "    x = tf.keras.layers.BatchNormalization(axis=-1)(x)\n",
    "    x = tf.keras.layers.MaxPool2D((3, 3), strides=(2, 2), padding='same')(x)\n",
    "    x = tf.keras.layers.LeakyReLU(alpha=0.2)(x)\n",
    "    x = tf.keras.layers.Dropout(0.1)(x)\n",
    "\n",
    "    x = tf.keras.layers.Conv2D(64, (3, 3), strides=(1,1), padding='valid', activation=None, kernel_regularizer=l2(regularization))(x)\n",
    "    x = tf.keras.layers.BatchNormalization(axis=-1)(x)\n",
    "    x = tf.keras.layers.MaxPool2D((3,3), strides=(2, 2), padding='valid')(x)\n",
    "    x = tf.keras.layers.LeakyReLU(alpha=0.2)(x)\n",
    "    x = tf.keras.layers.Dropout(0.2)(x)\n",
    "\n",
    "    x = tf.keras.layers.Conv2D(128, (3, 3), strides=(1,1), padding='valid', activation=None, kernel_regularizer=l2(regularization))(x)\n",
    "    x = tf.keras.layers.BatchNormalization(axis=-1)(x)\n",
    "    x = tf.keras.layers.LeakyReLU(alpha=0.2)(x)\n",
    "    x = tf.keras.layers.Dropout(0.3)(x)\n",
    "\n",
    "    x = tf.keras.layers.Conv2D(256, (3, 3), strides=(1,1), padding='valid', activation=None, kernel_regularizer=l2(regularization))(x)\n",
    "    x = tf.keras.layers.BatchNormalization(axis=-1)(x)\n",
    "    x = tf.keras.layers.LeakyReLU(alpha=0.2)(x)\n",
    "    x = tf.keras.layers.Dropout(0.4)(x)\n",
    "\n",
    "    x = tf.keras.layers.GlobalMaxPool2D()(x)\n",
    "\n",
    "    x = tf.keras.layers.Dense(256, activation='relu', kernel_regularizer=l2(regularization))(x)\n",
    "    x = tf.keras.layers.Dropout(0.5)(x)\n",
    "\n",
    "    x = tf.keras.layers.Dense(256, activation='relu', kernel_regularizer=l2(regularization))(x)\n",
    "    x = tf.keras.layers.Dropout(0.5)(x)\n",
    "\n",
    "    subject_output = tf.keras.layers.Dense(13, activation='softmax', name=\"subject_output\")(x)\n",
    "    posture_output = tf.keras.layers.Dense(3, activation='softmax', name=\"posture_output\")(x)\n",
    "\n",
    "    base_cnn_model = tf.keras.Model(inputs=input, outputs=[subject_output,posture_output], name=\"base_cnn_model\")\n",
    "\n",
    "    return base_cnn_model\n",
    "    # From Figure 2 in paper\n",
    "\n",
    "    # Input: 32x64x1\n",
    "\n",
    "    # 4 main blocks of conv-batchnorm plus max pool for 1st 2 blocks\n",
    "    # 1st block: 30 x 62 x 32 of conv-batchnorm-maxpool-leakyrelu (32 filters applied), max pool would make each 30x 62 =10 x 20, cov would make (32-3+1)x(64-3+1) = 30 x 62\n",
    "    # 2nd block: 13 x 29 x 64 of conv-batchnorm-maxpool-leakyrelu\n",
    "    # 3rd block: 4 x 12 x 128 of conv-batchnorm-leakyrelu\n",
    "    # 4th block: 2 x 10 x 256 of conv-batchnorm-leakyrelu\n",
    "\n",
    "    # Two Dense layers of 256 units with dropout of 0.5\n",
    "    # Two output layers, multinomial logistic regressors for recognition of subjects (M units) and their sleep postures (N units)\n",
    "\n",
    "    # Loss function: multiclass cross-entropy loss function of subjects and users separately\n",
    "    # plus combined loss function of both with hyperparameter lambda (from 0 to 1)\n",
    "\n",
    "    # Conv kernels: 3x3, stride 1, padding valid\n",
    "    # Max pool: 3x3\n",
    "    # batch norm\n",
    "    # Leaky ReLU: alpha 0.2\n",
    "\n",
    "    # dense layers have dropout of 0.5\n",
    "\n",
    "    # each conv block was followed by increasing drop of .1, .2, .3, .4\n",
    "\n",
    "    # L2 reg loss with coefficient of 0.002\n",
    "    # 2 softmax regressors"
   ]
  },
  {
   "cell_type": "code",
   "execution_count": 83,
   "metadata": {},
   "outputs": [],
   "source": [
    "# Preprocessing\n",
    "\n",
    "# median filter of 3x3\n",
    "# remove first and last 3 frames of each sequence\n",
    "# threshold filtering and equalization histogram"
   ]
  },
  {
   "cell_type": "markdown",
   "metadata": {},
   "source": [
    "### Loss Functions for Training\n",
    "\n",
    "### Notation\n",
    "- Let $I$ be the input pressure map.\n",
    "- Let $i$ be the example index.\n",
    "- Let $\\gamma$ and $\\delta$ be the user and the posture, respectively\n",
    "- Let M and N be the number of users and postures, respectively\n",
    "\n",
    "### Multi-Class Cross Entropy Loss Functions\n",
    "\n",
    "User Loss:\n",
    "\n",
    "$$ L_{user} = - \\sum_{j=1}^{M} \\gamma_{ij} \\log P({\\gamma_{j}}|I_i)$$\n",
    "\n",
    "\n",
    "Posture Loss:\n",
    "\n",
    "$$ L_{posture} = - \\sum_{j=1}^{N} \\delta_{ij} \\log P({\\delta_{j}}|I_i)$$\n",
    "\n",
    "Combined Loss\n",
    "\n",
    "$$ L = \\lambda L_{user} + (1-\\lambda)L_{posture} $$\n",
    "\n",
    "where $\\lambda$ is a hyperparameter that enforces the tradeoff between the two objectives - separating users and detecting postures"
   ]
  },
  {
   "cell_type": "code",
   "execution_count": 124,
   "metadata": {},
   "outputs": [],
   "source": [
    "def custom_loss(lambd):\n",
    "    # Define separate loss functions for each output\n",
    "    def user_loss(y_true, y_pred):\n",
    "        return tf.keras.losses.categorical_crossentropy(y_true[0], y_pred[0])\n",
    "\n",
    "    def posture_loss(y_true, y_pred):\n",
    "        return tf.keras.losses.categorical_crossentropy(y_true[1], y_pred[1])\n",
    "\n",
    "    # Combine the losses with the specified lambda\n",
    "    def combined_loss(y_true, y_pred):\n",
    "        return lambd * user_loss(y_true, y_pred) + (1 - lambd) * posture_loss(y_true, y_pred)\n",
    "    return combined_loss"
   ]
  },
  {
   "cell_type": "markdown",
   "metadata": {},
   "source": [
    "### Model Training"
   ]
  },
  {
   "cell_type": "code",
   "execution_count": 132,
   "metadata": {},
   "outputs": [
    {
     "name": "stdout",
     "output_type": "stream",
     "text": [
      "Epoch 1/40\n"
     ]
    },
    {
     "name": "stderr",
     "output_type": "stream",
     "text": [
      "2024-06-28 15:31:58.859498: E tensorflow/core/grappler/optimizers/meta_optimizer.cc:954] layout failed: INVALID_ARGUMENT: Size of values 0 does not match size of permutation 4 @ fanin shape inbase_cnn_model/dropout_198/dropout/SelectV2-2-TransposeNHWCToNCHW-LayoutOptimizer\n"
     ]
    },
    {
     "name": "stdout",
     "output_type": "stream",
     "text": [
      "263/263 [==============================] - 5s 9ms/step - loss: 5.0803 - subject_output_loss: 3.4773 - posture_output_loss: 1.6030 - subject_output_categorical_accuracy: 0.1077 - posture_output_categorical_accuracy: 0.4785 - val_loss: 3.3228 - val_subject_output_loss: 2.4367 - val_posture_output_loss: 0.8860 - val_subject_output_categorical_accuracy: 0.2016 - val_posture_output_categorical_accuracy: 0.8342\n",
      "Epoch 2/40\n",
      "263/263 [==============================] - 2s 8ms/step - loss: 3.4720 - subject_output_loss: 2.6143 - posture_output_loss: 0.8578 - subject_output_categorical_accuracy: 0.1300 - posture_output_categorical_accuracy: 0.6238 - val_loss: 3.0191 - val_subject_output_loss: 2.4193 - val_posture_output_loss: 0.5998 - val_subject_output_categorical_accuracy: 0.1695 - val_posture_output_categorical_accuracy: 0.7193\n",
      "Epoch 3/40\n",
      "263/263 [==============================] - 2s 8ms/step - loss: 3.2599 - subject_output_loss: 2.5938 - posture_output_loss: 0.6661 - subject_output_categorical_accuracy: 0.1391 - posture_output_categorical_accuracy: 0.7265 - val_loss: 2.8555 - val_subject_output_loss: 2.3813 - val_posture_output_loss: 0.4742 - val_subject_output_categorical_accuracy: 0.2059 - val_posture_output_categorical_accuracy: 0.8487\n",
      "Epoch 4/40\n",
      "263/263 [==============================] - 2s 8ms/step - loss: 3.0716 - subject_output_loss: 2.5534 - posture_output_loss: 0.5182 - subject_output_categorical_accuracy: 0.1541 - posture_output_categorical_accuracy: 0.7738 - val_loss: 2.6901 - val_subject_output_loss: 2.2984 - val_posture_output_loss: 0.3917 - val_subject_output_categorical_accuracy: 0.2465 - val_posture_output_categorical_accuracy: 0.8610\n",
      "Epoch 5/40\n",
      "263/263 [==============================] - 2s 8ms/step - loss: 2.9733 - subject_output_loss: 2.5178 - posture_output_loss: 0.4555 - subject_output_categorical_accuracy: 0.1623 - posture_output_categorical_accuracy: 0.8082 - val_loss: 2.6272 - val_subject_output_loss: 2.2873 - val_posture_output_loss: 0.3399 - val_subject_output_categorical_accuracy: 0.2118 - val_posture_output_categorical_accuracy: 0.9000\n",
      "Epoch 6/40\n",
      "263/263 [==============================] - 2s 7ms/step - loss: 2.8999 - subject_output_loss: 2.5074 - posture_output_loss: 0.3925 - subject_output_categorical_accuracy: 0.1802 - posture_output_categorical_accuracy: 0.8532 - val_loss: 2.4432 - val_subject_output_loss: 2.1798 - val_posture_output_loss: 0.2634 - val_subject_output_categorical_accuracy: 0.2444 - val_posture_output_categorical_accuracy: 0.8775\n",
      "Epoch 7/40\n",
      "263/263 [==============================] - 2s 7ms/step - loss: 2.7915 - subject_output_loss: 2.3950 - posture_output_loss: 0.3965 - subject_output_categorical_accuracy: 0.2000 - posture_output_categorical_accuracy: 0.8530 - val_loss: 2.4647 - val_subject_output_loss: 2.1703 - val_posture_output_loss: 0.2944 - val_subject_output_categorical_accuracy: 0.2278 - val_posture_output_categorical_accuracy: 0.8636\n",
      "Epoch 8/40\n",
      "263/263 [==============================] - 2s 8ms/step - loss: 2.7510 - subject_output_loss: 2.3796 - posture_output_loss: 0.3714 - subject_output_categorical_accuracy: 0.2112 - posture_output_categorical_accuracy: 0.8638 - val_loss: 2.4595 - val_subject_output_loss: 2.1625 - val_posture_output_loss: 0.2970 - val_subject_output_categorical_accuracy: 0.2572 - val_posture_output_categorical_accuracy: 0.9070\n",
      "Epoch 9/40\n",
      "263/263 [==============================] - 2s 8ms/step - loss: 2.6521 - subject_output_loss: 2.3224 - posture_output_loss: 0.3297 - subject_output_categorical_accuracy: 0.2184 - posture_output_categorical_accuracy: 0.8761 - val_loss: 2.2504 - val_subject_output_loss: 2.1014 - val_posture_output_loss: 0.1490 - val_subject_output_categorical_accuracy: 0.2551 - val_posture_output_categorical_accuracy: 0.9733\n",
      "Epoch 10/40\n",
      "263/263 [==============================] - 2s 8ms/step - loss: 2.6226 - subject_output_loss: 2.3258 - posture_output_loss: 0.2968 - subject_output_categorical_accuracy: 0.2265 - posture_output_categorical_accuracy: 0.8940 - val_loss: 2.1959 - val_subject_output_loss: 2.0507 - val_posture_output_loss: 0.1452 - val_subject_output_categorical_accuracy: 0.3193 - val_posture_output_categorical_accuracy: 0.9861\n",
      "Epoch 11/40\n",
      "263/263 [==============================] - 2s 8ms/step - loss: 2.4210 - subject_output_loss: 2.2178 - posture_output_loss: 0.2032 - subject_output_categorical_accuracy: 0.2366 - posture_output_categorical_accuracy: 0.9081 - val_loss: 2.2535 - val_subject_output_loss: 2.0115 - val_posture_output_loss: 0.2420 - val_subject_output_categorical_accuracy: 0.3048 - val_posture_output_categorical_accuracy: 0.9668\n",
      "Epoch 12/40\n",
      "263/263 [==============================] - 2s 8ms/step - loss: 2.4235 - subject_output_loss: 2.1635 - posture_output_loss: 0.2600 - subject_output_categorical_accuracy: 0.2540 - posture_output_categorical_accuracy: 0.9044 - val_loss: 2.1128 - val_subject_output_loss: 1.9670 - val_posture_output_loss: 0.1457 - val_subject_output_categorical_accuracy: 0.3246 - val_posture_output_categorical_accuracy: 0.9813\n",
      "Epoch 13/40\n",
      "263/263 [==============================] - 2s 8ms/step - loss: 2.3495 - subject_output_loss: 2.1122 - posture_output_loss: 0.2373 - subject_output_categorical_accuracy: 0.2599 - posture_output_categorical_accuracy: 0.9321 - val_loss: 2.3215 - val_subject_output_loss: 2.1939 - val_posture_output_loss: 0.1276 - val_subject_output_categorical_accuracy: 0.1588 - val_posture_output_categorical_accuracy: 0.9920\n",
      "Epoch 14/40\n",
      "263/263 [==============================] - 2s 7ms/step - loss: 2.2796 - subject_output_loss: 2.0601 - posture_output_loss: 0.2195 - subject_output_categorical_accuracy: 0.2706 - posture_output_categorical_accuracy: 0.9359 - val_loss: 1.9574 - val_subject_output_loss: 1.8391 - val_posture_output_loss: 0.1183 - val_subject_output_categorical_accuracy: 0.3856 - val_posture_output_categorical_accuracy: 0.9909\n",
      "Epoch 15/40\n",
      "263/263 [==============================] - 2s 7ms/step - loss: 2.3184 - subject_output_loss: 2.1298 - posture_output_loss: 0.1885 - subject_output_categorical_accuracy: 0.2739 - posture_output_categorical_accuracy: 0.9343 - val_loss: 1.9386 - val_subject_output_loss: 1.8775 - val_posture_output_loss: 0.0611 - val_subject_output_categorical_accuracy: 0.3016 - val_posture_output_categorical_accuracy: 0.9813\n",
      "Epoch 16/40\n",
      "263/263 [==============================] - 2s 7ms/step - loss: 2.2770 - subject_output_loss: 2.0775 - posture_output_loss: 0.1996 - subject_output_categorical_accuracy: 0.2780 - posture_output_categorical_accuracy: 0.9360 - val_loss: 1.7648 - val_subject_output_loss: 1.6965 - val_posture_output_loss: 0.0684 - val_subject_output_categorical_accuracy: 0.4128 - val_posture_output_categorical_accuracy: 0.9995\n",
      "Epoch 17/40\n",
      "263/263 [==============================] - 2s 6ms/step - loss: 2.2090 - subject_output_loss: 2.0237 - posture_output_loss: 0.1853 - subject_output_categorical_accuracy: 0.2982 - posture_output_categorical_accuracy: 0.9326 - val_loss: 2.1334 - val_subject_output_loss: 2.0420 - val_posture_output_loss: 0.0915 - val_subject_output_categorical_accuracy: 0.1930 - val_posture_output_categorical_accuracy: 0.9717\n",
      "Epoch 18/40\n",
      "263/263 [==============================] - 2s 7ms/step - loss: 2.3329 - subject_output_loss: 2.1338 - posture_output_loss: 0.1992 - subject_output_categorical_accuracy: 0.2931 - posture_output_categorical_accuracy: 0.9301 - val_loss: 1.9998 - val_subject_output_loss: 1.8906 - val_posture_output_loss: 0.1092 - val_subject_output_categorical_accuracy: 0.3604 - val_posture_output_categorical_accuracy: 0.9936\n",
      "Epoch 19/40\n",
      "263/263 [==============================] - 2s 8ms/step - loss: 2.1331 - subject_output_loss: 1.9757 - posture_output_loss: 0.1574 - subject_output_categorical_accuracy: 0.2990 - posture_output_categorical_accuracy: 0.9384 - val_loss: 1.7688 - val_subject_output_loss: 1.7185 - val_posture_output_loss: 0.0503 - val_subject_output_categorical_accuracy: 0.3267 - val_posture_output_categorical_accuracy: 0.9984\n"
     ]
    }
   ],
   "source": [
    "# Parameters\n",
    "initial_learning_rate = 5e-4\n",
    "epochs = 40\n",
    "batch_size = 64\n",
    "regularization = 0\n",
    "model_name = 'base_cnn_model'\n",
    "lambda_val = 0.5\n",
    "\n",
    "model_performance = pd.DataFrame(index=['Test Subject Accuracy', 'Test Posture Accuracy', 'Training Time (s)', 'Parameters', 'Model Size (MB)'])\n",
    "\n",
    "early_stop_callback = tf.keras.callbacks.EarlyStopping(monitor='val_loss', patience=3)\n",
    "\n",
    "# Define the model\n",
    "model = create_model(regularization)\n",
    "optimizer = tf.keras.optimizers.Adam(learning_rate=initial_learning_rate)\n",
    "model.compile(optimizer = optimizer,\n",
    "        loss=custom_loss(lambda_val),\n",
    "        metrics=[tf.keras.metrics.CategoricalAccuracy()])\n",
    "\n",
    "# Capture the training time\n",
    "start_time = time.time()\n",
    "\n",
    "# Train the model\n",
    "history = model.fit(\n",
    "                X_train, \n",
    "                {\n",
    "                'subject_output': label_s_train, \n",
    "                'posture_output': y_train\n",
    "                 },\n",
    "                epochs=epochs, \n",
    "                batch_size=batch_size, \n",
    "                validation_split=0.1, \n",
    "                validation_data=(\n",
    "                        X_test, \n",
    "                        {\n",
    "                        'subject_output': label_s_test, \n",
    "                        'posture_output': y_test\n",
    "                        }\n",
    "                ),\n",
    "                callbacks=[early_stop_callback]\n",
    "                )\n",
    "\n",
    "# Capture the end time\n",
    "end_time = time.time()\n",
    "\n",
    "# Calculate the elapsed time\n",
    "training_time = end_time - start_time\n",
    "\n",
    "# Record the model performance\n",
    "model_val_subject_acc = history.history['val_subject_output_categorical_accuracy'][-1]\n",
    "model_val_posture_acc = history.history['val_posture_output_categorical_accuracy'][-1]\n",
    "num_parameters = int(model.count_params())\n",
    "\n",
    "# Save the model\n",
    "model.save(path + f'/models/{model_name}.h5')\n",
    "\n",
    "# save model size\n",
    "model_size = os.path.getsize(path + f'/models/{model_name}.h5')\n",
    "model_size_kb = model_size / 1024\n",
    "model_size_mb = model_size_kb / 1024\n",
    "\n",
    "# add new entry to model performance\n",
    "model_performance[model_name] = [\n",
    "                                np.round(model_val_subject_acc, 3), \n",
    "                                np.round(model_val_posture_acc, 3), \n",
    "                                np.round(training_time, 3), \n",
    "                                int(num_parameters), \n",
    "                                np.round(model_size_mb, 3)]\n",
    "\n",
    "\n"
   ]
  },
  {
   "cell_type": "code",
   "execution_count": 134,
   "metadata": {},
   "outputs": [
    {
     "data": {
      "text/html": [
       "<div>\n",
       "<style scoped>\n",
       "    .dataframe tbody tr th:only-of-type {\n",
       "        vertical-align: middle;\n",
       "    }\n",
       "\n",
       "    .dataframe tbody tr th {\n",
       "        vertical-align: top;\n",
       "    }\n",
       "\n",
       "    .dataframe thead th {\n",
       "        text-align: right;\n",
       "    }\n",
       "</style>\n",
       "<table border=\"1\" class=\"dataframe\">\n",
       "  <thead>\n",
       "    <tr style=\"text-align: right;\">\n",
       "      <th></th>\n",
       "      <th>base_cnn_model</th>\n",
       "    </tr>\n",
       "  </thead>\n",
       "  <tbody>\n",
       "    <tr>\n",
       "      <th>Test Subject Accuracy</th>\n",
       "      <td>0.327</td>\n",
       "    </tr>\n",
       "    <tr>\n",
       "      <th>Test Posture Accuracy</th>\n",
       "      <td>0.998</td>\n",
       "    </tr>\n",
       "    <tr>\n",
       "      <th>Training Time (s)</th>\n",
       "      <td>40.847</td>\n",
       "    </tr>\n",
       "    <tr>\n",
       "      <th>Parameters</th>\n",
       "      <td>525456.000</td>\n",
       "    </tr>\n",
       "    <tr>\n",
       "      <th>Model Size (MB)</th>\n",
       "      <td>6.121</td>\n",
       "    </tr>\n",
       "  </tbody>\n",
       "</table>\n",
       "</div>"
      ],
      "text/plain": [
       "                       base_cnn_model\n",
       "Test Subject Accuracy           0.327\n",
       "Test Posture Accuracy           0.998\n",
       "Training Time (s)              40.847\n",
       "Parameters                 525456.000\n",
       "Model Size (MB)                 6.121"
      ]
     },
     "execution_count": 134,
     "metadata": {},
     "output_type": "execute_result"
    }
   ],
   "source": [
    "model_performance"
   ]
  },
  {
   "cell_type": "markdown",
   "metadata": {},
   "source": [
    "### K-Fold Cross Validation"
   ]
  },
  {
   "cell_type": "code",
   "execution_count": 135,
   "metadata": {},
   "outputs": [],
   "source": [
    "# One-hot encode the labels\n",
    "\n",
    "label_s_oh = tf.keras.utils.to_categorical(label_s, num_classes=13)\n",
    "y_oh = tf.keras.utils.to_categorical(y, num_classes=3)"
   ]
  },
  {
   "cell_type": "code",
   "execution_count": null,
   "metadata": {},
   "outputs": [],
   "source": [
    "# K-Fold Cross Validation on best model\n",
    "\n",
    "initial_learning_rate = 5e-4\n",
    "epochs = 40\n",
    "batch_size = 64\n",
    "regularization = 0\n",
    "model_name = 'best_model'\n",
    "\n",
    "lambda_performance = pd.DataFrame(index=['Test Subject Accuracy', 'Test Posture Accuracy', 'Training Time (s)'])\n",
    "\n",
    "early_stop_callback = tf.keras.callbacks.EarlyStopping(monitor='val_loss', patience=3)\n",
    "\n",
    "skf = StratifiedKFold(n_splits=10, shuffle=True)\n",
    "\n",
    "lambdas = [0.2, 0.5, 0.6, 0.8]\n",
    "\n",
    "performances = {lambd: [] for lambd in lambdas}\n",
    "for lambd in lambdas:\n",
    "    performances[lambd] = []\n",
    "    for i, (train_index, test_index) in enumerate(skf.split(X, y)):\n",
    "        print(f\"Lambda: {lambd} Fold {i}:\")\n",
    "        model=create_model(regularization) # For now, this is the best model\n",
    "        optimizer = tf.keras.optimizers.Adam(learning_rate=initial_learning_rate)\n",
    "        model.compile(optimizer = optimizer,\n",
    "                loss=custom_loss(lambd),\n",
    "                metrics=[tf.keras.metrics.CategoricalAccuracy()])\n",
    "\n",
    "        start_time = time.time()\n",
    "\n",
    "        history = model.fit(\n",
    "            X[train_index], \n",
    "            {\n",
    "                'subject_output': label_s_oh[train_index], \n",
    "                'posture_output': y_oh[train_index]\n",
    "            },\n",
    "            epochs=epochs, \n",
    "            batch_size=batch_size, \n",
    "            validation_data=(\n",
    "                X[test_index], \n",
    "                {\n",
    "                    'subject_output': label_s_oh[test_index], \n",
    "                    'posture_output': y_oh[test_index]\n",
    "                }\n",
    "            ),\n",
    "            callbacks=[early_stop_callback]\n",
    "        )\n",
    "\n",
    "        end_time = time.time()\n",
    "        training_time = end_time - start_time\n",
    "        \n",
    "        # Record the model performance per fold and lambda\n",
    "        performances[lambd].append([\n",
    "                                    history.history[\"val_subject_output_categorical_accuracy\"], \n",
    "                                    history.history[\"val_posture_output_categorical_accuracy\"],\n",
    "                                    training_time\n",
    "                                    ])\n",
    "\n",
    "\n",
    "# mean performances for each lamda on subject [0] or posture [1] accuracy\n",
    "for lambd in lambdas:\n",
    "    subject_accuracies = [perf[0] for perf in performances[lambd]]\n",
    "    posture_accuracies = [perf[1] for perf in performances[lambd]]\n",
    "    training_times = [perf[2] for perf in performances[lambd]]\n",
    "    \n",
    "    # Calculate the maximum accuracy for each fold\n",
    "    max_subject_accuracies = [np.max(fold_accuracies) for fold_accuracies in subject_accuracies]\n",
    "    max_posture_accuracies = [np.max(fold_accuracies) for fold_accuracies in posture_accuracies]\n",
    "    \n",
    "    # Calculate the mean of these maximum accuracies\n",
    "    mean_max_subject_accuracy = np.round(np.mean(max_subject_accuracies), 3)\n",
    "    mean_max_posture_accuracy = np.round(np.mean(max_posture_accuracies), 3)\n",
    "    mean_training_time = np.round(np.mean(training_times), 3)\n",
    "    \n",
    "    # Append the results to the DataFrame\n",
    "    lambda_performance[lambd] = [mean_max_subject_accuracy, mean_max_posture_accuracy,mean_training_time]"
   ]
  },
  {
   "cell_type": "code",
   "execution_count": 141,
   "metadata": {},
   "outputs": [
    {
     "data": {
      "text/html": [
       "<div>\n",
       "<style scoped>\n",
       "    .dataframe tbody tr th:only-of-type {\n",
       "        vertical-align: middle;\n",
       "    }\n",
       "\n",
       "    .dataframe tbody tr th {\n",
       "        vertical-align: top;\n",
       "    }\n",
       "\n",
       "    .dataframe thead th {\n",
       "        text-align: right;\n",
       "    }\n",
       "</style>\n",
       "<table border=\"1\" class=\"dataframe\">\n",
       "  <thead>\n",
       "    <tr style=\"text-align: right;\">\n",
       "      <th></th>\n",
       "      <th>0.2</th>\n",
       "      <th>0.5</th>\n",
       "      <th>0.6</th>\n",
       "      <th>0.8</th>\n",
       "    </tr>\n",
       "  </thead>\n",
       "  <tbody>\n",
       "    <tr>\n",
       "      <th>Test Subject Accuracy</th>\n",
       "      <td>0.431</td>\n",
       "      <td>0.508</td>\n",
       "      <td>0.497</td>\n",
       "      <td>0.403</td>\n",
       "    </tr>\n",
       "    <tr>\n",
       "      <th>Test Posture Accuracy</th>\n",
       "      <td>0.998</td>\n",
       "      <td>1.000</td>\n",
       "      <td>0.999</td>\n",
       "      <td>0.998</td>\n",
       "    </tr>\n",
       "    <tr>\n",
       "      <th>Training Time (s)</th>\n",
       "      <td>37.357</td>\n",
       "      <td>56.645</td>\n",
       "      <td>53.775</td>\n",
       "      <td>47.274</td>\n",
       "    </tr>\n",
       "  </tbody>\n",
       "</table>\n",
       "</div>"
      ],
      "text/plain": [
       "                          0.2     0.5     0.6     0.8\n",
       "Test Subject Accuracy   0.431   0.508   0.497   0.403\n",
       "Test Posture Accuracy   0.998   1.000   0.999   0.998\n",
       "Training Time (s)      37.357  56.645  53.775  47.274"
      ]
     },
     "execution_count": 141,
     "metadata": {},
     "output_type": "execute_result"
    }
   ],
   "source": [
    "lambda_performance"
   ]
  }
 ],
 "metadata": {
  "kernelspec": {
   "display_name": "Python 3",
   "language": "python",
   "name": "python3"
  },
  "language_info": {
   "codemirror_mode": {
    "name": "ipython",
    "version": 3
   },
   "file_extension": ".py",
   "mimetype": "text/x-python",
   "name": "python",
   "nbconvert_exporter": "python",
   "pygments_lexer": "ipython3",
   "version": "3.11.9"
  },
  "orig_nbformat": 4,
  "vscode": {
   "interpreter": {
    "hash": "31f2aee4e71d21fbe5cf8b01ff0e069b9275f58929596ceb00d14d90e3e16cd6"
   }
  }
 },
 "nbformat": 4,
 "nbformat_minor": 2
}
